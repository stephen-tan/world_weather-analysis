{
 "cells": [
  {
   "cell_type": "code",
   "execution_count": 1,
   "id": "ad319fa8",
   "metadata": {},
   "outputs": [],
   "source": [
    "# Import dependencies.\n",
    "import requests\n",
    "import random\n",
    "import numpy as np\n",
    "import matplotlib.pyplot as plt\n",
    "import pandas as pd\n",
    "\n",
    "# Import the datetime module from the datetime library.\n",
    "from datetime import datetime\n",
    "\n",
    "# Use the citipy module to determine city based on latitude and longitude.\n",
    "from citipy import citipy\n",
    "\n",
    "# Import the API key.\n",
    "from config import weather_api_key"
   ]
  },
  {
   "cell_type": "code",
   "execution_count": 2,
   "id": "50bae40f",
   "metadata": {
    "scrolled": true
   },
   "outputs": [
    {
     "data": {
      "text/plain": [
       "<zip at 0x26e93d35c08>"
      ]
     },
     "execution_count": 2,
     "metadata": {},
     "output_type": "execute_result"
    }
   ],
   "source": [
    "# Create 50 randomly generated latitudes and longitudes \n",
    "\n",
    "# Create a set of random latitude and longitude combinations.\n",
    "lats = np.random.uniform(low=-90.000, high=90.000, size=50)\n",
    "lngs = np.random.uniform(low=-180.000, high=180.000, size=50)\n",
    "lat_lngs = zip(lats, lngs)\n",
    "lat_lngs"
   ]
  },
  {
   "cell_type": "code",
   "execution_count": 3,
   "id": "4a7dc0d5",
   "metadata": {},
   "outputs": [
    {
     "data": {
      "text/plain": [
       "[(83.48052880396622, 51.04322036961733),\n",
       " (-69.15753150616642, 136.9073318140854),\n",
       " (10.121059014707612, 96.99103643359678),\n",
       " (16.36876027719798, 99.56362097751071),\n",
       " (-39.631477707326994, -142.8649991018349),\n",
       " (66.42875306748596, -140.88692247454665),\n",
       " (33.41259496556856, 65.08197964945595),\n",
       " (-29.62309911341626, 55.99412955892251),\n",
       " (-0.36749322857437505, 177.83964581055864),\n",
       " (-4.136526506232229, 126.6012495803891),\n",
       " (36.829842548972294, 61.61161299807176),\n",
       " (-8.469033241036996, -108.35435700345577),\n",
       " (-51.26234400077574, -115.31913570420875),\n",
       " (6.609952663178433, 41.02302114038258),\n",
       " (-38.73322304595078, 25.10159341140607),\n",
       " (23.450288299481016, 4.1976866476094585),\n",
       " (5.284768216835431, 21.89092521251797),\n",
       " (-16.872919879060547, -20.36030539197108),\n",
       " (-86.73106739785655, 165.85162871857483),\n",
       " (-10.317453350087007, 119.82870243697204),\n",
       " (75.53316131725745, 34.69696831402018),\n",
       " (59.29916917606096, -149.47659180466994),\n",
       " (-3.741580834800942, -175.45308389301445),\n",
       " (21.323230612584197, -160.49150606160956),\n",
       " (75.48090971987645, 75.15510679333624),\n",
       " (-24.377327942668003, -53.47313560952564),\n",
       " (-55.92112536731803, 175.7966463961584),\n",
       " (-71.82361172259883, -151.0170672747384),\n",
       " (-79.83050886063265, 49.28393268712534),\n",
       " (-58.64416093251689, -60.69849964201488),\n",
       " (-85.29102224215985, -175.97267867327812),\n",
       " (35.18690020635883, 160.9968819864293),\n",
       " (65.07762500429587, -159.92335085979946),\n",
       " (-53.030073654464154, 50.98017073904299),\n",
       " (-48.47967006441762, 131.5546893144283),\n",
       " (-65.06645440371928, 174.51189395659935),\n",
       " (27.0106358635354, 102.17776320618191),\n",
       " (-16.47422427864538, -25.79133018675907),\n",
       " (28.95700936977255, 101.39724263749002),\n",
       " (85.21936547745597, 118.52998802779189),\n",
       " (-68.92149380065621, -17.463915489817055),\n",
       " (-54.056493919960886, 91.11529913935476),\n",
       " (50.98578518969441, -119.13556773912197),\n",
       " (59.37534063282391, -159.86464320761246),\n",
       " (0.9078547793339737, -69.71916664770762),\n",
       " (12.12990823701972, 121.88434647710955),\n",
       " (-0.5590194907900496, 96.51475540336583),\n",
       " (-10.31058021849914, 86.05224897002154),\n",
       " (-61.69360905631925, 109.06039643212637),\n",
       " (39.87183311752099, -95.49261519417789)]"
      ]
     },
     "execution_count": 3,
     "metadata": {},
     "output_type": "execute_result"
    }
   ],
   "source": [
    "# Add the latitudes and longitudes to a list.\n",
    "coordinates = list(lat_lngs)\n",
    "coordinates"
   ]
  },
  {
   "cell_type": "code",
   "execution_count": 4,
   "id": "c8ce233f",
   "metadata": {},
   "outputs": [
    {
     "name": "stdout",
     "output_type": "stream",
     "text": [
      "belushya guba ru\n",
      "new norfolk au\n",
      "ranong th\n",
      "kamphaeng phet th\n",
      "mataura pf\n",
      "mayo ca\n",
      "taywarah af\n",
      "saint-joseph re\n",
      "rungata ki\n",
      "ambon id\n",
      "sarakhs ir\n",
      "puerto ayora ec\n",
      "rikitea pf\n",
      "ginir et\n",
      "kruisfontein za\n",
      "tessalit ml\n",
      "kembe cf\n",
      "georgetown sh\n",
      "bluff nz\n",
      "waingapu id\n",
      "vardo no\n",
      "sterling us\n",
      "vaitupu wf\n",
      "kapaa us\n",
      "dikson ru\n",
      "alto piquiri br\n",
      "kaitangata nz\n",
      "mataura pf\n",
      "port alfred za\n",
      "ushuaia ar\n",
      "vaini to\n",
      "sentyabrskiy ru\n",
      "bethel us\n",
      "tsihombe mg\n",
      "mount gambier au\n",
      "kaitangata nz\n",
      "panzhihua cn\n",
      "maragogi br\n",
      "xichang cn\n",
      "saskylakh ru\n",
      "cape town za\n",
      "busselton au\n",
      "sicamous ca\n",
      "bethel us\n",
      "mitu co\n",
      "lanas ph\n",
      "sibolga id\n",
      "hithadhoo mv\n",
      "albany au\n",
      "atchison us\n"
     ]
    }
   ],
   "source": [
    "# Create an empty list to hold the city names.\n",
    "cities = []\n",
    "\n",
    "# Create an empty list to hold the weather data.\n",
    "city_data = []\n",
    "\n",
    "# Use the tuple() function to display the city name with the given latitude and longitude combinations.\n",
    "for coordinate in coordinates:\n",
    "    cities.append(citipy.nearest_city(coordinate[0], coordinate[1]).city_name)\n",
    "    print(citipy.nearest_city(coordinate[0], coordinate[1]).city_name, citipy.nearest_city(coordinate[0], coordinate[1]).country_code)"
   ]
  },
  {
   "cell_type": "code",
   "execution_count": 5,
   "id": "a2ea2f42",
   "metadata": {},
   "outputs": [
    {
     "name": "stdout",
     "output_type": "stream",
     "text": [
      "http://api.openweathermap.org/data/2.5/weather?units=Imperial&APPID=a516769bbf338d45aaab9eaf1205d742\n"
     ]
    }
   ],
   "source": [
    "# Starting URL for Weather Map API Call.\n",
    "url = \"http://api.openweathermap.org/data/2.5/weather?units=Imperial&APPID=\" + weather_api_key\n",
    "print(url)"
   ]
  },
  {
   "cell_type": "code",
   "execution_count": 6,
   "id": "b2a35cf3",
   "metadata": {},
   "outputs": [
    {
     "name": "stdout",
     "output_type": "stream",
     "text": [
      "http://api.openweathermap.org/data/2.5/weather?q=belushya guba&APPID=a516769bbf338d45aaab9eaf1205d742\n"
     ]
    }
   ],
   "source": [
    "# Perform an API Call on the first data to see JSON structure\n",
    "weather_url = \"http://api.openweathermap.org/data/2.5/weather?q=\" + cities[0] + \"&APPID=\" + weather_api_key\n",
    "print(weather_url)"
   ]
  },
  {
   "cell_type": "code",
   "execution_count": 7,
   "id": "b8e4402b",
   "metadata": {},
   "outputs": [
    {
     "name": "stdout",
     "output_type": "stream",
     "text": [
      "Beginning Data Retrieval     \n",
      "-----------------------------\n",
      "Processing Record 1 of Set 1 | belushya guba\n",
      "City not found. Skipping...\n",
      "Processing Record 2 of Set 1 | new norfolk\n",
      "Processing Record 3 of Set 1 | ranong\n",
      "Processing Record 4 of Set 1 | kamphaeng phet\n",
      "Processing Record 5 of Set 1 | mataura\n",
      "Processing Record 6 of Set 1 | mayo\n",
      "Processing Record 7 of Set 1 | taywarah\n",
      "Processing Record 8 of Set 1 | saint-joseph\n",
      "Processing Record 9 of Set 1 | rungata\n",
      "City not found. Skipping...\n",
      "Processing Record 10 of Set 1 | ambon\n",
      "Processing Record 11 of Set 1 | sarakhs\n",
      "Processing Record 12 of Set 1 | puerto ayora\n",
      "Processing Record 13 of Set 1 | rikitea\n",
      "Processing Record 14 of Set 1 | ginir\n",
      "Processing Record 15 of Set 1 | kruisfontein\n",
      "Processing Record 16 of Set 1 | tessalit\n",
      "Processing Record 17 of Set 1 | kembe\n",
      "Processing Record 18 of Set 1 | georgetown\n",
      "Processing Record 19 of Set 1 | bluff\n",
      "Processing Record 20 of Set 1 | waingapu\n",
      "Processing Record 21 of Set 1 | vardo\n",
      "Processing Record 22 of Set 1 | sterling\n",
      "Processing Record 23 of Set 1 | vaitupu\n",
      "City not found. Skipping...\n",
      "Processing Record 24 of Set 1 | kapaa\n",
      "Processing Record 25 of Set 1 | dikson\n",
      "Processing Record 26 of Set 1 | alto piquiri\n",
      "Processing Record 27 of Set 1 | kaitangata\n",
      "Processing Record 28 of Set 1 | mataura\n",
      "Processing Record 29 of Set 1 | port alfred\n",
      "Processing Record 30 of Set 1 | ushuaia\n",
      "Processing Record 31 of Set 1 | vaini\n",
      "Processing Record 32 of Set 1 | sentyabrskiy\n",
      "City not found. Skipping...\n",
      "Processing Record 33 of Set 1 | bethel\n",
      "Processing Record 34 of Set 1 | tsihombe\n",
      "City not found. Skipping...\n",
      "Processing Record 35 of Set 1 | mount gambier\n",
      "Processing Record 36 of Set 1 | kaitangata\n",
      "Processing Record 37 of Set 1 | panzhihua\n",
      "Processing Record 38 of Set 1 | maragogi\n",
      "Processing Record 39 of Set 1 | xichang\n",
      "Processing Record 40 of Set 1 | saskylakh\n",
      "Processing Record 41 of Set 1 | cape town\n",
      "Processing Record 42 of Set 1 | busselton\n",
      "Processing Record 43 of Set 1 | sicamous\n",
      "Processing Record 44 of Set 1 | bethel\n",
      "Processing Record 45 of Set 1 | mitu\n",
      "Processing Record 46 of Set 1 | lanas\n",
      "Processing Record 47 of Set 1 | sibolga\n",
      "Processing Record 48 of Set 1 | hithadhoo\n",
      "Processing Record 49 of Set 1 | albany\n",
      "Processing Record 50 of Set 1 | atchison\n",
      "-----------------------------\n",
      "Data Retrieval Complete      \n",
      "-----------------------------\n"
     ]
    }
   ],
   "source": [
    "# Print the beginning of the logging.\n",
    "print(\"Beginning Data Retrieval     \")\n",
    "print(\"-----------------------------\")\n",
    "\n",
    "# Create counters.\n",
    "record_count = 1\n",
    "set_count = 1\n",
    "\n",
    "# Loop through all the cities in the list.\n",
    "for i, city in enumerate(cities):\n",
    "\n",
    "    # Group cities in sets of 50 for logging purposes.\n",
    "    if (i % 50 == 0 and i >= 50):\n",
    "        set_count += 1\n",
    "        record_count = 1\n",
    "    # Create endpoint URL with each city.\n",
    "    city_url = url + \"&q=\" + city.replace(\" \",\"+\")\n",
    "\n",
    "    # Log the URL, record, and set numbers and the city.\n",
    "    print(f\"Processing Record {record_count} of Set {set_count} | {city}\")\n",
    "    # Add 1 to the record count.\n",
    "    record_count += 1\n",
    "    \n",
    "# Run an API request for each of the cities.\n",
    "    try:\n",
    "        # Parse the JSON and retrieve data.\n",
    "        city_weather = requests.get(city_url).json()\n",
    "        # Parse out the needed data.\n",
    "        city_country = city_weather[\"sys\"][\"country\"]\n",
    "        city_lat = city_weather[\"coord\"][\"lat\"]\n",
    "        city_lng = city_weather[\"coord\"][\"lon\"]\n",
    "        city_max_temp = city_weather[\"main\"][\"temp_max\"]\n",
    "        city_humidity = city_weather[\"main\"][\"humidity\"]\n",
    "        city_clouds = city_weather[\"clouds\"][\"all\"]\n",
    "        city_wind = city_weather[\"wind\"][\"speed\"]\n",
    "        city_description = city_weather[\"weather\"][0][\"description\"]\n",
    "        # Convert the date to ISO standard.\n",
    "        city_date = datetime.utcfromtimestamp(city_weather[\"dt\"]).strftime('%Y-%m-%d %H:%M:%S')\n",
    "        # Append the city information into city_data list.\n",
    "        city_data.append({\"City\": city.title(),\n",
    "                          \"Country\" : city_country,\n",
    "                          \"Lat\": city_lat,\n",
    "                          \"Lng\": city_lng,\n",
    "                          \"Max Temp\": city_max_temp,\n",
    "                          \"Humidity\": city_humidity,\n",
    "                          \"Cloudiness\": city_clouds,\n",
    "                          \"Wind Speed\": city_wind,\n",
    "                          \"Description\": city_description})\n",
    "\n",
    "# If an error is experienced, skip the city.\n",
    "    except:\n",
    "        print(\"City not found. Skipping...\")\n",
    "        pass\n",
    "\n",
    "# Indicate that Data Loading is complete.\n",
    "print(\"-----------------------------\")\n",
    "print(\"Data Retrieval Complete      \")\n",
    "print(\"-----------------------------\")"
   ]
  },
  {
   "cell_type": "code",
   "execution_count": 8,
   "id": "e31a47c6",
   "metadata": {},
   "outputs": [
    {
     "data": {
      "text/html": [
       "<div>\n",
       "<style scoped>\n",
       "    .dataframe tbody tr th:only-of-type {\n",
       "        vertical-align: middle;\n",
       "    }\n",
       "\n",
       "    .dataframe tbody tr th {\n",
       "        vertical-align: top;\n",
       "    }\n",
       "\n",
       "    .dataframe thead th {\n",
       "        text-align: right;\n",
       "    }\n",
       "</style>\n",
       "<table border=\"1\" class=\"dataframe\">\n",
       "  <thead>\n",
       "    <tr style=\"text-align: right;\">\n",
       "      <th></th>\n",
       "      <th>City</th>\n",
       "      <th>Country</th>\n",
       "      <th>Lat</th>\n",
       "      <th>Lng</th>\n",
       "      <th>Max Temp</th>\n",
       "      <th>Humidity</th>\n",
       "      <th>Cloudiness</th>\n",
       "      <th>Wind Speed</th>\n",
       "      <th>Description</th>\n",
       "    </tr>\n",
       "  </thead>\n",
       "  <tbody>\n",
       "    <tr>\n",
       "      <th>0</th>\n",
       "      <td>New Norfolk</td>\n",
       "      <td>AU</td>\n",
       "      <td>-42.7826</td>\n",
       "      <td>147.0587</td>\n",
       "      <td>49.91</td>\n",
       "      <td>72</td>\n",
       "      <td>84</td>\n",
       "      <td>1.99</td>\n",
       "      <td>broken clouds</td>\n",
       "    </tr>\n",
       "    <tr>\n",
       "      <th>1</th>\n",
       "      <td>Ranong</td>\n",
       "      <td>TH</td>\n",
       "      <td>9.9658</td>\n",
       "      <td>98.6348</td>\n",
       "      <td>79.74</td>\n",
       "      <td>85</td>\n",
       "      <td>90</td>\n",
       "      <td>1.63</td>\n",
       "      <td>overcast clouds</td>\n",
       "    </tr>\n",
       "    <tr>\n",
       "      <th>2</th>\n",
       "      <td>Kamphaeng Phet</td>\n",
       "      <td>TH</td>\n",
       "      <td>16.2500</td>\n",
       "      <td>99.5000</td>\n",
       "      <td>82.13</td>\n",
       "      <td>71</td>\n",
       "      <td>26</td>\n",
       "      <td>3.20</td>\n",
       "      <td>scattered clouds</td>\n",
       "    </tr>\n",
       "    <tr>\n",
       "      <th>3</th>\n",
       "      <td>Mataura</td>\n",
       "      <td>NZ</td>\n",
       "      <td>-46.1927</td>\n",
       "      <td>168.8643</td>\n",
       "      <td>49.48</td>\n",
       "      <td>93</td>\n",
       "      <td>49</td>\n",
       "      <td>2.62</td>\n",
       "      <td>scattered clouds</td>\n",
       "    </tr>\n",
       "    <tr>\n",
       "      <th>4</th>\n",
       "      <td>Mayo</td>\n",
       "      <td>US</td>\n",
       "      <td>38.8876</td>\n",
       "      <td>-76.5119</td>\n",
       "      <td>82.24</td>\n",
       "      <td>67</td>\n",
       "      <td>1</td>\n",
       "      <td>8.01</td>\n",
       "      <td>clear sky</td>\n",
       "    </tr>\n",
       "    <tr>\n",
       "      <th>5</th>\n",
       "      <td>Taywarah</td>\n",
       "      <td>AF</td>\n",
       "      <td>33.3500</td>\n",
       "      <td>64.4167</td>\n",
       "      <td>56.53</td>\n",
       "      <td>27</td>\n",
       "      <td>0</td>\n",
       "      <td>4.21</td>\n",
       "      <td>clear sky</td>\n",
       "    </tr>\n",
       "    <tr>\n",
       "      <th>6</th>\n",
       "      <td>Saint-Joseph</td>\n",
       "      <td>RE</td>\n",
       "      <td>-21.3667</td>\n",
       "      <td>55.6167</td>\n",
       "      <td>69.48</td>\n",
       "      <td>80</td>\n",
       "      <td>92</td>\n",
       "      <td>14.56</td>\n",
       "      <td>overcast clouds</td>\n",
       "    </tr>\n",
       "    <tr>\n",
       "      <th>7</th>\n",
       "      <td>Ambon</td>\n",
       "      <td>ID</td>\n",
       "      <td>-3.6954</td>\n",
       "      <td>128.1814</td>\n",
       "      <td>75.34</td>\n",
       "      <td>94</td>\n",
       "      <td>75</td>\n",
       "      <td>8.14</td>\n",
       "      <td>moderate rain</td>\n",
       "    </tr>\n",
       "    <tr>\n",
       "      <th>8</th>\n",
       "      <td>Sarakhs</td>\n",
       "      <td>IR</td>\n",
       "      <td>36.5449</td>\n",
       "      <td>61.1577</td>\n",
       "      <td>84.34</td>\n",
       "      <td>39</td>\n",
       "      <td>0</td>\n",
       "      <td>0.00</td>\n",
       "      <td>clear sky</td>\n",
       "    </tr>\n",
       "    <tr>\n",
       "      <th>9</th>\n",
       "      <td>Puerto Ayora</td>\n",
       "      <td>EC</td>\n",
       "      <td>-0.7393</td>\n",
       "      <td>-90.3518</td>\n",
       "      <td>82.36</td>\n",
       "      <td>82</td>\n",
       "      <td>77</td>\n",
       "      <td>5.99</td>\n",
       "      <td>broken clouds</td>\n",
       "    </tr>\n",
       "  </tbody>\n",
       "</table>\n",
       "</div>"
      ],
      "text/plain": [
       "             City Country      Lat       Lng  Max Temp  Humidity  Cloudiness  \\\n",
       "0     New Norfolk      AU -42.7826  147.0587     49.91        72          84   \n",
       "1          Ranong      TH   9.9658   98.6348     79.74        85          90   \n",
       "2  Kamphaeng Phet      TH  16.2500   99.5000     82.13        71          26   \n",
       "3         Mataura      NZ -46.1927  168.8643     49.48        93          49   \n",
       "4            Mayo      US  38.8876  -76.5119     82.24        67           1   \n",
       "5        Taywarah      AF  33.3500   64.4167     56.53        27           0   \n",
       "6    Saint-Joseph      RE -21.3667   55.6167     69.48        80          92   \n",
       "7           Ambon      ID  -3.6954  128.1814     75.34        94          75   \n",
       "8         Sarakhs      IR  36.5449   61.1577     84.34        39           0   \n",
       "9    Puerto Ayora      EC  -0.7393  -90.3518     82.36        82          77   \n",
       "\n",
       "   Wind Speed       Description  \n",
       "0        1.99     broken clouds  \n",
       "1        1.63   overcast clouds  \n",
       "2        3.20  scattered clouds  \n",
       "3        2.62  scattered clouds  \n",
       "4        8.01         clear sky  \n",
       "5        4.21         clear sky  \n",
       "6       14.56   overcast clouds  \n",
       "7        8.14     moderate rain  \n",
       "8        0.00         clear sky  \n",
       "9        5.99     broken clouds  "
      ]
     },
     "execution_count": 8,
     "metadata": {},
     "output_type": "execute_result"
    }
   ],
   "source": [
    "# Convert the array of dictionaries to a Pandas DataFrame.\n",
    "city_data_df = pd.DataFrame(city_data)\n",
    "city_data_df.head(10)"
   ]
  },
  {
   "cell_type": "code",
   "execution_count": 10,
   "id": "866c5ffc",
   "metadata": {},
   "outputs": [],
   "source": [
    "# Extract relevant fields from the DataFrame for plotting.\n",
    "lats = city_data_df[\"Lat\"]\n",
    "max_temps = city_data_df[\"Max Temp\"]\n",
    "humidity = city_data_df[\"Humidity\"]\n",
    "cloudiness = city_data_df[\"Cloudiness\"]\n",
    "wind_speed = city_data_df[\"Wind Speed\"]"
   ]
  },
  {
   "cell_type": "code",
   "execution_count": 15,
   "id": "112bb6d0",
   "metadata": {},
   "outputs": [
    {
     "data": {
      "image/png": "[encoded data removed]",
      "text/plain": [
       "<Figure size 432x288 with 1 Axes>"
      ]
     },
     "metadata": {
      "needs_background": "light"
     },
     "output_type": "display_data"
    }
   ],
   "source": [
    "# Import time module\n",
    "import time\n",
    "\n",
    "# Build the scatter plot for latitude vs. max temperature.\n",
    "plt.scatter(lats,\n",
    "            max_temps,\n",
    "            edgecolor=\"black\", linewidths=1, marker=\"o\",\n",
    "            alpha=0.8, label=\"Cities\")\n",
    "\n",
    "# Incorporate the other graph properties.\n",
    "plt.title(f\"City Latitude vs. Max Temperature \"+ time.strftime(\"%x\"))\n",
    "plt.ylabel(\"Max Temperature (F)\")\n",
    "plt.xlabel(\"Latitude\")\n",
    "plt.grid(True)\n",
    "\n",
    "# Save the figure.\n",
    "plt.savefig(\"weather_data/Fig1.png\")\n",
    "\n",
    "# Show plot.\n",
    "plt.show()"
   ]
  },
  {
   "cell_type": "code",
   "execution_count": 16,
   "id": "1f8d9aee",
   "metadata": {},
   "outputs": [
    {
     "data": {
      "image/png": "[encoded data removed]",
      "text/plain": [
       "<Figure size 432x288 with 1 Axes>"
      ]
     },
     "metadata": {
      "needs_background": "light"
     },
     "output_type": "display_data"
    }
   ],
   "source": [
    "# Build the scatter plots for latitude vs. humidity.\n",
    "plt.scatter(lats,\n",
    "            humidity,\n",
    "            edgecolor=\"black\", linewidths=1, marker=\"o\",\n",
    "            alpha=0.8, label=\"Cities\")\n",
    "\n",
    "# Incorporate the other graph properties.\n",
    "plt.title(f\"City Latitude vs. Humidity \"+ time.strftime(\"%x\"))\n",
    "plt.ylabel(\"Humidity (%)\")\n",
    "plt.xlabel(\"Latitude\")\n",
    "plt.grid(True)\n",
    "# Save the figure.\n",
    "plt.savefig(\"weather_data/Fig2.png\")\n",
    "# Show plot.\n",
    "plt.show()"
   ]
  },
  {
   "cell_type": "code",
   "execution_count": 17,
   "id": "d3969cb9",
   "metadata": {},
   "outputs": [
    {
     "data": {
      "image/png": "[encoded data removed]",
      "text/plain": [
       "<Figure size 432x288 with 1 Axes>"
      ]
     },
     "metadata": {
      "needs_background": "light"
     },
     "output_type": "display_data"
    }
   ],
   "source": [
    "# Build the scatter plots for latitude vs. cloudiness.\n",
    "plt.scatter(lats,\n",
    "            cloudiness,\n",
    "            edgecolor=\"black\", linewidths=1, marker=\"o\",\n",
    "            alpha=0.8, label=\"Cities\")\n",
    "\n",
    "# Incorporate the other graph properties.\n",
    "plt.title(f\"City Latitude vs. Cloudiness (%) \"+ time.strftime(\"%x\"))\n",
    "plt.ylabel(\"Cloudiness (%)\")\n",
    "plt.xlabel(\"Latitude\")\n",
    "plt.grid(True)\n",
    "# Save the figure.\n",
    "plt.savefig(\"weather_data/Fig3.png\")\n",
    "# Show plot.\n",
    "plt.show()"
   ]
  },
  {
   "cell_type": "code",
   "execution_count": 18,
   "id": "9838fc2e",
   "metadata": {},
   "outputs": [
    {
     "data": {
      "image/png": "[encoded data removed]",
      "text/plain": [
       "<Figure size 432x288 with 1 Axes>"
      ]
     },
     "metadata": {
      "needs_background": "light"
     },
     "output_type": "display_data"
    }
   ],
   "source": [
    "# Build the scatter plots for latitude vs. wind speed.\n",
    "plt.scatter(lats,\n",
    "            wind_speed,\n",
    "            edgecolor=\"black\", linewidths=1, marker=\"o\",\n",
    "            alpha=0.8, label=\"Cities\")\n",
    "\n",
    "# Incorporate the other graph properties.\n",
    "plt.title(f\"City Latitude vs. Wind Speed \"+ time.strftime(\"%x\"))\n",
    "plt.ylabel(\"Wind Speed (mph)\")\n",
    "plt.xlabel(\"Latitude\")\n",
    "plt.grid(True)\n",
    "# Save the figure.\n",
    "plt.savefig(\"weather_data/Fig4.png\")\n",
    "# Show plot.\n",
    "plt.show()"
   ]
  },
  {
   "cell_type": "code",
   "execution_count": 32,
   "id": "638f7815",
   "metadata": {},
   "outputs": [],
   "source": [
    "# Import linregress\n",
    "from scipy.stats import linregress\n",
    "\n",
    "# Create a function to create perform linear regression on the weather data\n",
    "# and plot a regression line and the equation with the data.\n",
    "def plot_linear_regression(x_values, y_values, title, y_label, text_coordinates):\n",
    "\n",
    "    # Run regression on hemisphere weather data.\n",
    "    (slope, intercept, r_value, p_value, std_err) = linregress(x_values, y_values)\n",
    "\n",
    "    # Calculate the regression line \"y values\" from the slope and intercept.\n",
    "    regress_values = x_values * slope + intercept\n",
    "    # Get the equation of the line.\n",
    "    line_eq = \"y = \" + str(round(slope,2)) + \"x + \" + str(round(intercept,2))\n",
    "    # Create a scatter plot and plot the regression line.\n",
    "    plt.scatter(x_values,y_values)\n",
    "    plt.plot(x_values,regress_values,\"r\")\n",
    "    # Annotate the text for the line equation.\n",
    "    plt.annotate(line_eq, text_coordinates, fontsize=15, color=\"red\")\n",
    "    plt.xlabel('Latitude')\n",
    "    plt.ylabel(y_label)\n",
    "    plt.title(title)\n",
    "    plt.show()"
   ]
  },
  {
   "cell_type": "code",
   "execution_count": 33,
   "id": "efb27bdd",
   "metadata": {},
   "outputs": [
    {
     "data": {
      "text/html": [
       "<div>\n",
       "<style scoped>\n",
       "    .dataframe tbody tr th:only-of-type {\n",
       "        vertical-align: middle;\n",
       "    }\n",
       "\n",
       "    .dataframe tbody tr th {\n",
       "        vertical-align: top;\n",
       "    }\n",
       "\n",
       "    .dataframe thead th {\n",
       "        text-align: right;\n",
       "    }\n",
       "</style>\n",
       "<table border=\"1\" class=\"dataframe\">\n",
       "  <thead>\n",
       "    <tr style=\"text-align: right;\">\n",
       "      <th></th>\n",
       "      <th>City</th>\n",
       "      <th>Country</th>\n",
       "      <th>Lat</th>\n",
       "      <th>Lng</th>\n",
       "      <th>Max Temp</th>\n",
       "      <th>Humidity</th>\n",
       "      <th>Cloudiness</th>\n",
       "      <th>Wind Speed</th>\n",
       "      <th>Description</th>\n",
       "    </tr>\n",
       "  </thead>\n",
       "  <tbody>\n",
       "    <tr>\n",
       "      <th>1</th>\n",
       "      <td>Ranong</td>\n",
       "      <td>TH</td>\n",
       "      <td>9.9658</td>\n",
       "      <td>98.6348</td>\n",
       "      <td>79.74</td>\n",
       "      <td>85</td>\n",
       "      <td>90</td>\n",
       "      <td>1.63</td>\n",
       "      <td>overcast clouds</td>\n",
       "    </tr>\n",
       "    <tr>\n",
       "      <th>2</th>\n",
       "      <td>Kamphaeng Phet</td>\n",
       "      <td>TH</td>\n",
       "      <td>16.2500</td>\n",
       "      <td>99.5000</td>\n",
       "      <td>82.13</td>\n",
       "      <td>71</td>\n",
       "      <td>26</td>\n",
       "      <td>3.20</td>\n",
       "      <td>scattered clouds</td>\n",
       "    </tr>\n",
       "    <tr>\n",
       "      <th>4</th>\n",
       "      <td>Mayo</td>\n",
       "      <td>US</td>\n",
       "      <td>38.8876</td>\n",
       "      <td>-76.5119</td>\n",
       "      <td>82.24</td>\n",
       "      <td>67</td>\n",
       "      <td>1</td>\n",
       "      <td>8.01</td>\n",
       "      <td>clear sky</td>\n",
       "    </tr>\n",
       "    <tr>\n",
       "      <th>5</th>\n",
       "      <td>Taywarah</td>\n",
       "      <td>AF</td>\n",
       "      <td>33.3500</td>\n",
       "      <td>64.4167</td>\n",
       "      <td>56.53</td>\n",
       "      <td>27</td>\n",
       "      <td>0</td>\n",
       "      <td>4.21</td>\n",
       "      <td>clear sky</td>\n",
       "    </tr>\n",
       "    <tr>\n",
       "      <th>8</th>\n",
       "      <td>Sarakhs</td>\n",
       "      <td>IR</td>\n",
       "      <td>36.5449</td>\n",
       "      <td>61.1577</td>\n",
       "      <td>84.34</td>\n",
       "      <td>39</td>\n",
       "      <td>0</td>\n",
       "      <td>0.00</td>\n",
       "      <td>clear sky</td>\n",
       "    </tr>\n",
       "  </tbody>\n",
       "</table>\n",
       "</div>"
      ],
      "text/plain": [
       "             City Country      Lat      Lng  Max Temp  Humidity  Cloudiness  \\\n",
       "1          Ranong      TH   9.9658  98.6348     79.74        85          90   \n",
       "2  Kamphaeng Phet      TH  16.2500  99.5000     82.13        71          26   \n",
       "4            Mayo      US  38.8876 -76.5119     82.24        67           1   \n",
       "5        Taywarah      AF  33.3500  64.4167     56.53        27           0   \n",
       "8         Sarakhs      IR  36.5449  61.1577     84.34        39           0   \n",
       "\n",
       "   Wind Speed       Description  \n",
       "1        1.63   overcast clouds  \n",
       "2        3.20  scattered clouds  \n",
       "4        8.01         clear sky  \n",
       "5        4.21         clear sky  \n",
       "8        0.00         clear sky  "
      ]
     },
     "execution_count": 33,
     "metadata": {},
     "output_type": "execute_result"
    }
   ],
   "source": [
    "# Create Northern and Southern Hemisphere DataFrames.\n",
    "northern_hemi_df = city_data_df.loc[(city_data_df[\"Lat\"] >= 0)]\n",
    "southern_hemi_df = city_data_df.loc[(city_data_df[\"Lat\"] < 0)]\n",
    "\n",
    "northern_hemi_df.head()"
   ]
  },
  {
   "cell_type": "code",
   "execution_count": 39,
   "id": "747c0fe5",
   "metadata": {},
   "outputs": [
    {
     "data": {
      "image/png": "[encoded data removed]",
      "text/plain": [
       "<Figure size 432x288 with 1 Axes>"
      ]
     },
     "metadata": {
      "needs_background": "light"
     },
     "output_type": "display_data"
    }
   ],
   "source": [
    "# Linear regression on the Northern Hemisphere\n",
    "x_values = northern_hemi_df[\"Lat\"]\n",
    "y_values = northern_hemi_df[\"Max Temp\"]\n",
    "# Call the function.\n",
    "plot_linear_regression(x_values, y_values,\n",
    "                       'Linear Regression on the Northern Hemisphere \\n for Maximum Temperature', 'Max Temp',(10,40))"
   ]
  },
  {
   "cell_type": "code",
   "execution_count": 50,
   "id": "fd8e30ab",
   "metadata": {},
   "outputs": [
    {
     "data": {
      "image/png": "[encoded data removed]",
      "text/plain": [
       "<Figure size 432x288 with 1 Axes>"
      ]
     },
     "metadata": {
      "needs_background": "light"
     },
     "output_type": "display_data"
    }
   ],
   "source": [
    "# Linear regression on the Southern Hemisphere\n",
    "x_values = southern_hemi_df[\"Lat\"]\n",
    "y_values = southern_hemi_df[\"Max Temp\"]\n",
    "# Call the function.\n",
    "plot_linear_regression(x_values, y_values,\n",
    "                       'Linear Regression on the Southern Hemisphere \\n for Maximum Temperature', 'Max Temp',(-40, 40))"
   ]
  },
  {
   "cell_type": "code",
   "execution_count": 51,
   "id": "1d6b5fc7",
   "metadata": {},
   "outputs": [
    {
     "data": {
      "image/png": "[encoded data removed]",
      "text/plain": [
       "<Figure size 432x288 with 1 Axes>"
      ]
     },
     "metadata": {
      "needs_background": "light"
     },
     "output_type": "display_data"
    }
   ],
   "source": [
    "# Linear regression on the Southern Hemisphere\n",
    "x_values = southern_hemi_df[\"Lat\"]\n",
    "y_values = southern_hemi_df[\"Humidity\"]\n",
    "# Call the function.\n",
    "plot_linear_regression(x_values, y_values,\n",
    "                       'Linear Regression on the Southern Hemisphere \\n for % Humidity', '% Humidity',(-40, 85))"
   ]
  },
  {
   "cell_type": "code",
   "execution_count": 55,
   "id": "d23aa173",
   "metadata": {},
   "outputs": [
    {
     "data": {
      "image/png": "[encoded data removed]",
      "text/plain": [
       "<Figure size 432x288 with 1 Axes>"
      ]
     },
     "metadata": {
      "needs_background": "light"
     },
     "output_type": "display_data"
    }
   ],
   "source": [
    "# Linear regression on the Southern Hemisphere\n",
    "x_values = southern_hemi_df[\"Lat\"]\n",
    "y_values = southern_hemi_df[\"Cloudiness\"]\n",
    "# Call the function.\n",
    "plot_linear_regression(x_values, y_values,\n",
    "                       'Linear Regression on the Southern Hemisphere \\n for % Cloudiness', '% Cloudiness',(-30, 45))"
   ]
  },
  {
   "cell_type": "code",
   "execution_count": 57,
   "id": "1628de36",
   "metadata": {},
   "outputs": [
    {
     "data": {
      "image/png": "[encoded data removed]",
      "text/plain": [
       "<Figure size 432x288 with 1 Axes>"
      ]
     },
     "metadata": {
      "needs_background": "light"
     },
     "output_type": "display_data"
    }
   ],
   "source": [
    "# Linear regression on the Northern Hemisphere\n",
    "x_values = northern_hemi_df[\"Lat\"]\n",
    "y_values = northern_hemi_df[\"Wind Speed\"]\n",
    "# Call the function.\n",
    "plot_linear_regression(x_values, y_values,\n",
    "                       'Linear Regression on the Northern Hemisphere \\n for Wind Speed', 'Wind Speed',(10,10))"
   ]
  },
  {
   "cell_type": "code",
   "execution_count": 60,
   "id": "0b7febe8",
   "metadata": {},
   "outputs": [
    {
     "data": {
      "image/png": "[encoded data removed]",
      "text/plain": [
       "<Figure size 432x288 with 1 Axes>"
      ]
     },
     "metadata": {
      "needs_background": "light"
     },
     "output_type": "display_data"
    }
   ],
   "source": [
    "# Linear regression on the Southern Hemisphere\n",
    "x_values = southern_hemi_df[\"Lat\"]\n",
    "y_values = southern_hemi_df[\"Wind Speed\"]\n",
    "# Call the function.\n",
    "plot_linear_regression(x_values, y_values,\n",
    "                       'Linear Regression on the Southern Hemisphere \\n for Wind Speed', 'Wind Speed',(-50,15))"
   ]
  },
  {
   "cell_type": "code",
   "execution_count": null,
   "id": "c882f301",
   "metadata": {},
   "outputs": [],
   "source": []
  }
 ],
 "metadata": {
  "kernelspec": {
   "display_name": "pythondata",
   "language": "python",
   "name": "pythondata"
  },
  "language_info": {
   "codemirror_mode": {
    "name": "ipython",
    "version": 3
   },
   "file_extension": ".py",
   "mimetype": "text/x-python",
   "name": "python",
   "nbconvert_exporter": "python",
   "pygments_lexer": "ipython3",
   "version": "3.7.10"
  }
 },
 "nbformat": 4,
 "nbformat_minor": 5
}
